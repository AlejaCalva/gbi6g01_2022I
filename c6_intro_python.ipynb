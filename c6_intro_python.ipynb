{
  "nbformat": 4,
  "nbformat_minor": 0,
  "metadata": {
    "colab": {
      "name": "c6_intro_python.ipynb",
      "provenance": [],
      "authorship_tag": "ABX9TyNPta36D8DSPXshA/PCnchE",
      "include_colab_link": true
    },
    "kernelspec": {
      "name": "python3",
      "display_name": "Python 3"
    },
    "language_info": {
      "name": "python"
    }
  },
  "cells": [
    {
      "cell_type": "markdown",
      "metadata": {
        "id": "view-in-github",
        "colab_type": "text"
      },
      "source": [
        "<a href=\"https://colab.research.google.com/github/AlejaCalva/gbi6g01_2022I/blob/main/c6_intro_python.ipynb\" target=\"_parent\"><img src=\"https://colab.research.google.com/assets/colab-badge.svg\" alt=\"Open In Colab\"/></a>"
      ]
    },
    {
      "cell_type": "markdown",
      "source": [
        "# BIOINFORMÁTICA\n",
        "\n",
        "## CLASE 6: Introducción a Python\n",
        "\n",
        "En esta clase vamos a revisar los siguientes contenidos:\n",
        "\n",
        "1. Historia de Python\n",
        "2. Tipos de datos\n",
        "3. Operaciones con números\n",
        "4. Operaciones con texto\n",
        "\n",
        "## 1. HISTORIA PYTHON\n",
        "\n",
        "La historia de Python se puede leer en la [página web de python](https://www.python.org/doc/)"
      ],
      "metadata": {
        "id": "tNjHOna0yiaW"
      }
    },
    {
      "cell_type": "markdown",
      "source": [
        "## 2. TIPOS DE DATOS\n",
        "\n",
        "- Numéricos: enteros (integer, int), decimales (double), complejos (complex).\n",
        "- Lógicos: Verdadero (TRUE, T), Falso (FALSE, F)\n",
        "- Texto: cadena de caracteres \"Siempre entre comillas\""
      ],
      "metadata": {
        "id": "-XtxOXjdyZyP"
      }
    },
    {
      "cell_type": "code",
      "execution_count": 2,
      "metadata": {
        "id": "Kiq22FRhxutM"
      },
      "outputs": [],
      "source": [
        "gen1_r = 1.5\n",
        "gen1_h = 1.7\n",
        "dif_gen1 = gen1_r - gen1_h\n",
        "radio_gen1 = gen1_r / gen1_h"
      ]
    },
    {
      "cell_type": "code",
      "source": [
        "print(\"gen1_h:\", gen1_h)\n",
        "print(\"gen1_r:\", gen1_r)\n",
        "print(\"dif_gen1:\", dif_gen1)\n",
        "print(\"radio_gen1:\", radio_gen1)"
      ],
      "metadata": {
        "colab": {
          "base_uri": "https://localhost:8080/"
        },
        "id": "KQu4Cy_06a8y",
        "outputId": "8533f413-cffb-424e-99ed-abdf8192f1a3"
      },
      "execution_count": 6,
      "outputs": [
        {
          "output_type": "stream",
          "name": "stdout",
          "text": [
            "gen1_h: 1.7\n",
            "gen1_r: 1.5\n",
            "dif_gen1: -0.19999999999999996\n",
            "radio_gen1: 0.8823529411764706\n"
          ]
        }
      ]
    },
    {
      "cell_type": "markdown",
      "source": [
        "## Operaciones con texto "
      ],
      "metadata": {
        "id": "jsbBLj_q8UkR"
      }
    },
    {
      "cell_type": "code",
      "source": [
        "saludo = \"hola con todos, que bueno que no hay examen\"\n",
        "saludo.upper()\n"
      ],
      "metadata": {
        "colab": {
          "base_uri": "https://localhost:8080/",
          "height": 35
        },
        "id": "hnotL4fD8dM6",
        "outputId": "554d8177-1583-4c5e-9d2b-3490f525b3e3"
      },
      "execution_count": 10,
      "outputs": [
        {
          "output_type": "execute_result",
          "data": {
            "text/plain": [
              "'HOLA CON TODOS, QUE BUENO QUE NO HAY EXAMEN'"
            ],
            "application/vnd.google.colaboratory.intrinsic+json": {
              "type": "string"
            }
          },
          "metadata": {},
          "execution_count": 10
        }
      ]
    },
    {
      "cell_type": "code",
      "source": [
        "len(saludo)"
      ],
      "metadata": {
        "colab": {
          "base_uri": "https://localhost:8080/"
        },
        "id": "Z8UMXbuw90ew",
        "outputId": "906a7a00-d916-4df0-97d2-925ac9139d7e"
      },
      "execution_count": 11,
      "outputs": [
        {
          "output_type": "execute_result",
          "data": {
            "text/plain": [
              "43"
            ]
          },
          "metadata": {},
          "execution_count": 11
        }
      ]
    },
    {
      "cell_type": "code",
      "source": [
        "# En este bloque se revisa el uso combinado de funciones\n",
        "total = len(saludo)\n",
        "char_a = saludo.count(\"a\")\n",
        "radio_a = 100*char_a / total\n",
        "print(\"Porcentaje de a:\", radio_a)\n"
      ],
      "metadata": {
        "colab": {
          "base_uri": "https://localhost:8080/"
        },
        "id": "tWljOh6S-vbA",
        "outputId": "d2ccaaed-6ef3-4e2d-9dc4-e973fdd5d67c"
      },
      "execution_count": 13,
      "outputs": [
        {
          "output_type": "stream",
          "name": "stdout",
          "text": [
            "Porcentaje de a: 6.976744186046512\n"
          ]
        }
      ]
    },
    {
      "cell_type": "code",
      "source": [
        "round(radio_a, 2)"
      ],
      "metadata": {
        "colab": {
          "base_uri": "https://localhost:8080/"
        },
        "id": "TdvxhITX_2vK",
        "outputId": "50d77fb7-a547-4d7f-c72d-d50cdb5ebea6"
      },
      "execution_count": 15,
      "outputs": [
        {
          "output_type": "execute_result",
          "data": {
            "text/plain": [
              "6.98"
            ]
          },
          "metadata": {},
          "execution_count": 15
        }
      ]
    },
    {
      "cell_type": "markdown",
      "source": [
        "#Porcentaje de GC\n",
        "Calcular el porcentaje de contenido de nucléotidos G y C en la siguiente secuencia\n",
        "\n",
        "\n"
      ],
      "metadata": {
        "id": "Cj9jCte9BkXF"
      }
    },
    {
      "cell_type": "code",
      "source": [
        "p53_l1 = \"TTCCTGGNCTGTAGGTAGCGACTACAGTTAGGGGGCACCTAGCATTCAGGCCCTCATCCTCCTCCTTCCC\""
      ],
      "metadata": {
        "id": "KDYo598dCWO_"
      },
      "execution_count": 40,
      "outputs": []
    },
    {
      "cell_type": "markdown",
      "source": [
        "calcular el porcentaje de GC"
      ],
      "metadata": {
        "id": "WJYmkmCACVrz"
      }
    },
    {
      "cell_type": "code",
      "source": [
        "percent_GC = 100*(p53_l1.count(\"G\") + p53_l1.count(\"C\"))/len(p53_l1)\n",
        "print(\"Porcentaje GC en P53_linea1: \", round(percent_GC, 3))"
      ],
      "metadata": {
        "colab": {
          "base_uri": "https://localhost:8080/"
        },
        "id": "oBShPDSJC94L",
        "outputId": "b069fb03-98ed-44a5-855c-0d6266b9ca6c"
      },
      "execution_count": 41,
      "outputs": [
        {
          "output_type": "stream",
          "name": "stdout",
          "text": [
            "Porcentaje GC en P53_linea1:  57.143\n"
          ]
        }
      ]
    },
    {
      "cell_type": "code",
      "source": [
        "# Subconjunto\n",
        "print(p53_l1)\n",
        "fi = p53_l1.find(\"TAC\") # Si se tiene\n",
        "ff1 = p53_l1.find(\"ATT\") # Si se tiene\n",
        "ff2 = p53_l1.find(\"ATC\")\n",
        "ff3 = p53_l1.find(\"ACT\")\n",
        "\n"
      ],
      "metadata": {
        "colab": {
          "base_uri": "https://localhost:8080/"
        },
        "id": "TpKRmPoxMhCQ",
        "outputId": "0bfe9cba-914a-416b-bcd0-78e168d937f7"
      },
      "execution_count": 21,
      "outputs": [
        {
          "output_type": "stream",
          "name": "stdout",
          "text": [
            "TTCCTGGNCTGTAGGTAGCGACTACAGTTAGGGGGCACCTAGCATTCAGGCCCTCATCCTCCTCCTTCCC\n"
          ]
        }
      ]
    },
    {
      "cell_type": "code",
      "source": [
        "ff3"
      ],
      "metadata": {
        "colab": {
          "base_uri": "https://localhost:8080/"
        },
        "id": "HdC7DS69O0ig",
        "outputId": "673f00fd-2bc0-4d28-823d-497f5b33293d"
      },
      "execution_count": 23,
      "outputs": [
        {
          "output_type": "execute_result",
          "data": {
            "text/plain": [
              "20"
            ]
          },
          "metadata": {},
          "execution_count": 23
        }
      ]
    },
    {
      "cell_type": "code",
      "source": [
        "p53_l1[3:6]"
      ],
      "metadata": {
        "colab": {
          "base_uri": "https://localhost:8080/",
          "height": 35
        },
        "id": "CluoP5wWPFKg",
        "outputId": "1296b921-3332-409a-fc04-cc20f5c4679e"
      },
      "execution_count": 24,
      "outputs": [
        {
          "output_type": "execute_result",
          "data": {
            "text/plain": [
              "'CTG'"
            ],
            "application/vnd.google.colaboratory.intrinsic+json": {
              "type": "string"
            }
          },
          "metadata": {},
          "execution_count": 24
        }
      ]
    },
    {
      "cell_type": "code",
      "source": [
        "p53_l1[0:2]"
      ],
      "metadata": {
        "colab": {
          "base_uri": "https://localhost:8080/",
          "height": 35
        },
        "id": "WN86x_TAQPDp",
        "outputId": "739abc11-d4a1-4cb5-8dd0-a69660ff4de3"
      },
      "execution_count": 25,
      "outputs": [
        {
          "output_type": "execute_result",
          "data": {
            "text/plain": [
              "'TT'"
            ],
            "application/vnd.google.colaboratory.intrinsic+json": {
              "type": "string"
            }
          },
          "metadata": {},
          "execution_count": 25
        }
      ]
    },
    {
      "cell_type": "code",
      "source": [
        "mRNA_f1 = p53_l1[fi:ff1+3]\n",
        "mRNA_f1"
      ],
      "metadata": {
        "colab": {
          "base_uri": "https://localhost:8080/",
          "height": 35
        },
        "id": "t6NP7TKRQg3U",
        "outputId": "f741ffb8-42c4-4d45-9123-2621d0bf4c20"
      },
      "execution_count": 26,
      "outputs": [
        {
          "output_type": "execute_result",
          "data": {
            "text/plain": [
              "'TACAGTTAGGGGGCACCTAGCATT'"
            ],
            "application/vnd.google.colaboratory.intrinsic+json": {
              "type": "string"
            }
          },
          "metadata": {},
          "execution_count": 26
        }
      ]
    },
    {
      "cell_type": "code",
      "source": [
        "# Cadena Complementaria\n",
        "print(saludo)\n",
        "saludo.replace(\"x\", \"e\")"
      ],
      "metadata": {
        "colab": {
          "base_uri": "https://localhost:8080/",
          "height": 53
        },
        "id": "gQj32qB1RZVC",
        "outputId": "f10085e5-f996-4a03-ff36-b794beeeacda"
      },
      "execution_count": 28,
      "outputs": [
        {
          "output_type": "stream",
          "name": "stdout",
          "text": [
            "hola con todos, que bueno que no hay examen\n"
          ]
        },
        {
          "output_type": "execute_result",
          "data": {
            "text/plain": [
              "'hola con todos, que bueno que no hay eeamen'"
            ],
            "application/vnd.google.colaboratory.intrinsic+json": {
              "type": "string"
            }
          },
          "metadata": {},
          "execution_count": 28
        }
      ]
    },
    {
      "cell_type": "code",
      "source": [
        "p53_a = p53_l1.replace(\"A\", \"t\")\n",
        "p53_t = p53_a.replace(\"T\", \"a\")\n",
        "p53_g = p53_t.replace(\"G\", \"c\")\n",
        "p53_c = p53_g.replace(\"C\", \"g\")\n",
        "p53_l1c = p53_c.upper()\n",
        "p53_l1c\n",
        "\n",
        "\n"
      ],
      "metadata": {
        "colab": {
          "base_uri": "https://localhost:8080/",
          "height": 35
        },
        "id": "ayAaEYJjSSDT",
        "outputId": "bb4091db-66fc-45af-d220-2536cf4c0988"
      },
      "execution_count": 34,
      "outputs": [
        {
          "output_type": "execute_result",
          "data": {
            "text/plain": [
              "'AAGGACCNGACATCCATCGCTGATGTCAATCCCCCGTGGATCGTAAGTCCGGGAGTAGGAGGAGGAAGGG'"
            ],
            "application/vnd.google.colaboratory.intrinsic+json": {
              "type": "string"
            }
          },
          "metadata": {},
          "execution_count": 34
        }
      ]
    },
    {
      "cell_type": "code",
      "source": [
        "print(p53_l1)\n",
        "print(p53_l1c)"
      ],
      "metadata": {
        "colab": {
          "base_uri": "https://localhost:8080/"
        },
        "id": "_B5Y19F0UOeV",
        "outputId": "c9f453e9-5d92-4bd7-99ea-a487d297d927"
      },
      "execution_count": 35,
      "outputs": [
        {
          "output_type": "stream",
          "name": "stdout",
          "text": [
            "TTCCTGGNCTGTAGGTAGCGACTACAGTTAGGGGGCACCTAGCATTCAGGCCCTCATCCTCCTCCTTCCC\n",
            "AAGGACCNGACATCCATCGCTGATGTCAATCCCCCGTGGATCGTAAGTCCGGGAGTAGGAGGAGGAAGGG\n"
          ]
        }
      ]
    },
    {
      "cell_type": "code",
      "source": [
        "p53_l1c_r = p53_l1c[::-1]\n",
        "print(p53_l1)\n",
        "print(p53_l1c)\n",
        "print(p53_l1c_r)"
      ],
      "metadata": {
        "colab": {
          "base_uri": "https://localhost:8080/"
        },
        "id": "w2OL7b8mVN5I",
        "outputId": "9083490f-911a-41ef-e36e-07b60b58e586"
      },
      "execution_count": 36,
      "outputs": [
        {
          "output_type": "stream",
          "name": "stdout",
          "text": [
            "TTCCTGGNCTGTAGGTAGCGACTACAGTTAGGGGGCACCTAGCATTCAGGCCCTCATCCTCCTCCTTCCC\n",
            "AAGGACCNGACATCCATCGCTGATGTCAATCCCCCGTGGATCGTAAGTCCGGGAGTAGGAGGAGGAAGGG\n",
            "GGGAAGGAGGAGGATGAGGGCCTGAATGCTAGGTGCCCCCTAACTGTAGTCGCTACCTACAGNCCAGGAA\n"
          ]
        }
      ]
    },
    {
      "cell_type": "code",
      "source": [
        "p53_l1c_r. find(\"TAC\")"
      ],
      "metadata": {
        "colab": {
          "base_uri": "https://localhost:8080/"
        },
        "id": "JqG0xt7bXNQk",
        "outputId": "2c301fc1-5e0b-42bb-ca2f-963b9fee0766"
      },
      "execution_count": 37,
      "outputs": [
        {
          "output_type": "execute_result",
          "data": {
            "text/plain": [
              "53"
            ]
          },
          "metadata": {},
          "execution_count": 37
        }
      ]
    },
    {
      "cell_type": "code",
      "source": [
        "p53_l1 = \"TTCCTGGNCTGTAGGTAGCGACTACAGTTAGGGGGCACCTAGCATTCAGGCCCTCATCCTCCTCCTTCCCAGCAGGGTGTCACGCTTCTCCGAAGACTGGATGACTGCCATGGAGGAGTCACAGTCGGATATCAGCCTCGAGCTCCCTCTGAGCCAGGAGACATTTTCAGGCTTATGGAAACTACTTCCTCCAGAAGATATCCTGCCATC\""
      ],
      "metadata": {
        "id": "rwSfgHOc4d3U"
      },
      "execution_count": 1,
      "outputs": []
    },
    {
      "cell_type": "code",
      "source": [
        "percent_GC = 100*(p53_l1.count(\"G\") + p53_l1.count(\"C\"))/len(p53_l1)\n",
        "print(\"Porcentaje GC en P53_linea1: \", round(percent_GC, 3))"
      ],
      "metadata": {
        "colab": {
          "base_uri": "https://localhost:8080/"
        },
        "id": "N3twnE2h6F_V",
        "outputId": "80a8fe42-2a16-4ea3-cbd3-95cb4fa02972"
      },
      "execution_count": 5,
      "outputs": [
        {
          "output_type": "stream",
          "name": "stdout",
          "text": [
            "Porcentaje GC en P53_linea1:  54.286\n"
          ]
        }
      ]
    },
    {
      "cell_type": "code",
      "source": [
        "# Subconjunto\n",
        "print(p53_l1)\n",
        "fi = p53_l1.find(\"TAC\") # Si se tiene\n",
        "ff1 = p53_l1.find(\"ATT\") # Si se tiene\n",
        "ff2 = p53_l1.find(\"ATC\")\n",
        "ff3 = p53_l1.find(\"ACT\")"
      ],
      "metadata": {
        "colab": {
          "base_uri": "https://localhost:8080/"
        },
        "id": "jTEwnC5M6NJq",
        "outputId": "03c3eaae-8e38-4771-a650-bc2b6da5568e"
      },
      "execution_count": 6,
      "outputs": [
        {
          "output_type": "stream",
          "name": "stdout",
          "text": [
            "TTCCTGGNCTGTAGGTAGCGACTACAGTTAGGGGGCACCTAGCATTCAGGCCCTCATCCTCCTCCTTCCCAGCAGGGTGTCACGCTTCTCCGAAGACTGGATGACTGCCATGGAGGAGTCACAGTCGGATATCAGCCTCGAGCTCCCTCTGAGCCAGGAGACATTTTCAGGCTTATGGAAACTACTTCCTCCAGAAGATATCCTGCCATC\n"
          ]
        }
      ]
    },
    {
      "cell_type": "code",
      "source": [
        "ff3"
      ],
      "metadata": {
        "colab": {
          "base_uri": "https://localhost:8080/"
        },
        "id": "kKJzI-Gl6cy0",
        "outputId": "afd318f3-6032-4fe1-d6c8-8800c06e146d"
      },
      "execution_count": 7,
      "outputs": [
        {
          "output_type": "execute_result",
          "data": {
            "text/plain": [
              "20"
            ]
          },
          "metadata": {},
          "execution_count": 7
        }
      ]
    },
    {
      "cell_type": "code",
      "source": [
        "p53_l1[3:6]"
      ],
      "metadata": {
        "colab": {
          "base_uri": "https://localhost:8080/",
          "height": 35
        },
        "id": "wAABS-qp6i0E",
        "outputId": "4ad65f06-670f-4eb4-9875-bcb16c8a31b4"
      },
      "execution_count": 8,
      "outputs": [
        {
          "output_type": "execute_result",
          "data": {
            "text/plain": [
              "'CTG'"
            ],
            "application/vnd.google.colaboratory.intrinsic+json": {
              "type": "string"
            }
          },
          "metadata": {},
          "execution_count": 8
        }
      ]
    },
    {
      "cell_type": "code",
      "source": [
        "p53_l1[0:2]"
      ],
      "metadata": {
        "colab": {
          "base_uri": "https://localhost:8080/",
          "height": 35
        },
        "id": "AGgl4C_e6pau",
        "outputId": "23ae587a-c2dc-4537-a451-cc2e572826ad"
      },
      "execution_count": 9,
      "outputs": [
        {
          "output_type": "execute_result",
          "data": {
            "text/plain": [
              "'TT'"
            ],
            "application/vnd.google.colaboratory.intrinsic+json": {
              "type": "string"
            }
          },
          "metadata": {},
          "execution_count": 9
        }
      ]
    },
    {
      "cell_type": "code",
      "source": [
        "mRNA_f1 = p53_l1[fi:ff1+3]\n",
        "mRNA_f1"
      ],
      "metadata": {
        "colab": {
          "base_uri": "https://localhost:8080/",
          "height": 35
        },
        "id": "Zk37SwyV6uSp",
        "outputId": "4efec9a7-a454-498b-9244-2808f9b58cdd"
      },
      "execution_count": 10,
      "outputs": [
        {
          "output_type": "execute_result",
          "data": {
            "text/plain": [
              "'TACAGTTAGGGGGCACCTAGCATT'"
            ],
            "application/vnd.google.colaboratory.intrinsic+json": {
              "type": "string"
            }
          },
          "metadata": {},
          "execution_count": 10
        }
      ]
    },
    {
      "cell_type": "code",
      "source": [
        "p53_a = p53_l1.replace(\"A\", \"t\")\n",
        "p53_t = p53_a.replace(\"T\", \"a\")\n",
        "p53_g = p53_t.replace(\"G\", \"c\")\n",
        "p53_c = p53_g.replace(\"C\", \"g\")\n",
        "p53_l1c = p53_c.upper()\n",
        "p53_l1c"
      ],
      "metadata": {
        "colab": {
          "base_uri": "https://localhost:8080/",
          "height": 53
        },
        "id": "nlXPhSm-7SF6",
        "outputId": "796d0419-a69f-4ff3-819d-f379b8d55cb3"
      },
      "execution_count": 14,
      "outputs": [
        {
          "output_type": "execute_result",
          "data": {
            "text/plain": [
              "'AAGGACCNGACATCCATCGCTGATGTCAATCCCCCGTGGATCGTAAGTCCGGGAGTAGGAGGAGGAAGGGTCGTCCCACAGTGCGAAGAGGCTTCTGACCTACTGACGGTACCTCCTCAGTGTCAGCCTATAGTCGGAGCTCGAGGGAGACTCGGTCCTCTGTAAAAGTCCGAATACCTTTGATGAAGGAGGTCTTCTATAGGACGGTAG'"
            ],
            "application/vnd.google.colaboratory.intrinsic+json": {
              "type": "string"
            }
          },
          "metadata": {},
          "execution_count": 14
        }
      ]
    },
    {
      "cell_type": "code",
      "source": [
        "print(p53_l1)\n",
        "print(p53_l1c)"
      ],
      "metadata": {
        "colab": {
          "base_uri": "https://localhost:8080/"
        },
        "id": "Fm-pgwkV7Wwo",
        "outputId": "7671c76c-e91f-4102-9d01-39b64e721708"
      },
      "execution_count": 15,
      "outputs": [
        {
          "output_type": "stream",
          "name": "stdout",
          "text": [
            "TTCCTGGNCTGTAGGTAGCGACTACAGTTAGGGGGCACCTAGCATTCAGGCCCTCATCCTCCTCCTTCCCAGCAGGGTGTCACGCTTCTCCGAAGACTGGATGACTGCCATGGAGGAGTCACAGTCGGATATCAGCCTCGAGCTCCCTCTGAGCCAGGAGACATTTTCAGGCTTATGGAAACTACTTCCTCCAGAAGATATCCTGCCATC\n",
            "AAGGACCNGACATCCATCGCTGATGTCAATCCCCCGTGGATCGTAAGTCCGGGAGTAGGAGGAGGAAGGGTCGTCCCACAGTGCGAAGAGGCTTCTGACCTACTGACGGTACCTCCTCAGTGTCAGCCTATAGTCGGAGCTCGAGGGAGACTCGGTCCTCTGTAAAAGTCCGAATACCTTTGATGAAGGAGGTCTTCTATAGGACGGTAG\n"
          ]
        }
      ]
    },
    {
      "cell_type": "code",
      "source": [
        "p53_l1c_r = p53_l1c[::-1]\n",
        "print(p53_l1)\n",
        "print(p53_l1c)\n",
        "print(p53_l1c_r)"
      ],
      "metadata": {
        "colab": {
          "base_uri": "https://localhost:8080/"
        },
        "id": "20_gHnQT7bMP",
        "outputId": "adf3f94f-602e-4dc4-d664-dc69d494e456"
      },
      "execution_count": 16,
      "outputs": [
        {
          "output_type": "stream",
          "name": "stdout",
          "text": [
            "TTCCTGGNCTGTAGGTAGCGACTACAGTTAGGGGGCACCTAGCATTCAGGCCCTCATCCTCCTCCTTCCCAGCAGGGTGTCACGCTTCTCCGAAGACTGGATGACTGCCATGGAGGAGTCACAGTCGGATATCAGCCTCGAGCTCCCTCTGAGCCAGGAGACATTTTCAGGCTTATGGAAACTACTTCCTCCAGAAGATATCCTGCCATC\n",
            "AAGGACCNGACATCCATCGCTGATGTCAATCCCCCGTGGATCGTAAGTCCGGGAGTAGGAGGAGGAAGGGTCGTCCCACAGTGCGAAGAGGCTTCTGACCTACTGACGGTACCTCCTCAGTGTCAGCCTATAGTCGGAGCTCGAGGGAGACTCGGTCCTCTGTAAAAGTCCGAATACCTTTGATGAAGGAGGTCTTCTATAGGACGGTAG\n",
            "GATGGCAGGATATCTTCTGGAGGAAGTAGTTTCCATAAGCCTGAAAATGTCTCCTGGCTCAGAGGGAGCTCGAGGCTGATATCCGACTGTGACTCCTCCATGGCAGTCATCCAGTCTTCGGAGAAGCGTGACACCCTGCTGGGAAGGAGGAGGATGAGGGCCTGAATGCTAGGTGCCCCCTAACTGTAGTCGCTACCTACAGNCCAGGAA\n"
          ]
        }
      ]
    },
    {
      "cell_type": "code",
      "source": [
        "p53_l1c_r. find(\"TAC\")"
      ],
      "metadata": {
        "colab": {
          "base_uri": "https://localhost:8080/"
        },
        "id": "bPeS5LRQ7gxN",
        "outputId": "337b40ba-5044-48a7-d6ca-bd0e7deb25e1"
      },
      "execution_count": 17,
      "outputs": [
        {
          "output_type": "execute_result",
          "data": {
            "text/plain": [
              "193"
            ]
          },
          "metadata": {},
          "execution_count": 17
        }
      ]
    },
    {
      "cell_type": "code",
      "source": [
        "percent_GC = 100*(p53_l1c_r.count(\"G\") + p53_l1c_r.count(\"C\"))/len(p53_l1c_r)\n",
        "print(\"Porcentaje GC en P53_linea1: \", round(percent_GC, 3))"
      ],
      "metadata": {
        "colab": {
          "base_uri": "https://localhost:8080/"
        },
        "id": "QP3rlvDg7n-V",
        "outputId": "4c38dee5-8c74-4e05-930c-634919c5b9c4"
      },
      "execution_count": 18,
      "outputs": [
        {
          "output_type": "stream",
          "name": "stdout",
          "text": [
            "Porcentaje GC en P53_linea1:  54.286\n"
          ]
        }
      ]
    },
    {
      "cell_type": "code",
      "source": [
        "# Subconjunto\n",
        "print(p53_l1c_r)\n",
        "ficr = p53_l1c_r.find(\"TAC\") # Si se tiene\n",
        "ff1cr = p53_l1c_r.find(\"ATT\") # Si se tiene\n",
        "ff2cr = p53_l1c_r.find(\"ATC\")\n",
        "ff3cr = p53_l1c_r.find(\"ACT\")\n",
        "mRNA_f1cr = p53_l1c_r[ficr:ff1cr+3]\n",
        "mRNA_f1cr"
      ],
      "metadata": {
        "colab": {
          "base_uri": "https://localhost:8080/",
          "height": 73
        },
        "id": "3Zqmxd_D79X1",
        "outputId": "c014fb9b-3ef9-4b00-8ce2-4f257af32257"
      },
      "execution_count": 19,
      "outputs": [
        {
          "output_type": "stream",
          "name": "stdout",
          "text": [
            "GATGGCAGGATATCTTCTGGAGGAAGTAGTTTCCATAAGCCTGAAAATGTCTCCTGGCTCAGAGGGAGCTCGAGGCTGATATCCGACTGTGACTCCTCCATGGCAGTCATCCAGTCTTCGGAGAAGCGTGACACCCTGCTGGGAAGGAGGAGGATGAGGGCCTGAATGCTAGGTGCCCCCTAACTGTAGTCGCTACCTACAGNCCAGGAA\n"
          ]
        },
        {
          "output_type": "execute_result",
          "data": {
            "text/plain": [
              "''"
            ],
            "application/vnd.google.colaboratory.intrinsic+json": {
              "type": "string"
            }
          },
          "metadata": {},
          "execution_count": 19
        }
      ]
    }
  ]
}